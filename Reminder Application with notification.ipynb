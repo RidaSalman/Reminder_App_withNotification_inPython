{
 "cells": [
  {
   "cell_type": "code",
   "execution_count": null,
   "id": "f71fc477",
   "metadata": {},
   "outputs": [],
   "source": [
    "import time #es python program ko schedule krdengy\n",
    "from plyer import notification\n",
    "if __name__ == '__main__':\n",
    "    while True :\n",
    "        notification.notify(\n",
    "        title = \"Please Drink Water\",\n",
    "        message = \"About 15.5 cups (3.7 liters) of fluids a day for men.About 11.5 cups (2.7 liters) of fluids a day for women.\",\n",
    "        app_icon = \"C:\\\\Users\\\\srt\\\\Downloads\\\\icon.ico\",\n",
    "        timeout = 10\n",
    "    )\n",
    "    time.sleep(60*60)\n",
    "    exit()"
   ]
  },
  {
   "cell_type": "code",
   "execution_count": 7,
   "id": "0b331234",
   "metadata": {},
   "outputs": [
    {
     "name": "stdout",
     "output_type": "stream",
     "text": [
      "Requirement already satisfied: plyer in c:\\users\\srt\\anaconda3\\lib\\site-packages (2.1.0)\n"
     ]
    }
   ],
   "source": [
    "!pip install plyer"
   ]
  },
  {
   "cell_type": "code",
   "execution_count": null,
   "id": "c14d0a09",
   "metadata": {},
   "outputs": [],
   "source": [
    "exit()"
   ]
  },
  {
   "cell_type": "code",
   "execution_count": null,
   "id": "58dc6a6d",
   "metadata": {},
   "outputs": [],
   "source": []
  },
  {
   "cell_type": "code",
   "execution_count": null,
   "id": "70c779d6",
   "metadata": {},
   "outputs": [],
   "source": []
  },
  {
   "cell_type": "code",
   "execution_count": null,
   "id": "32ae77ee",
   "metadata": {},
   "outputs": [],
   "source": []
  },
  {
   "cell_type": "code",
   "execution_count": null,
   "id": "1e112def",
   "metadata": {},
   "outputs": [],
   "source": []
  },
  {
   "cell_type": "code",
   "execution_count": null,
   "id": "ffe90e07",
   "metadata": {},
   "outputs": [],
   "source": []
  }
 ],
 "metadata": {
  "kernelspec": {
   "display_name": "Python 3 (ipykernel)",
   "language": "python",
   "name": "python3"
  },
  "language_info": {
   "codemirror_mode": {
    "name": "ipython",
    "version": 3
   },
   "file_extension": ".py",
   "mimetype": "text/x-python",
   "name": "python",
   "nbconvert_exporter": "python",
   "pygments_lexer": "ipython3",
   "version": "3.9.12"
  }
 },
 "nbformat": 4,
 "nbformat_minor": 5
}
